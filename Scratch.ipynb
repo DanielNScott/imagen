{
 "cells": [
  {
   "cell_type": "markdown",
   "metadata": {},
   "source": [
    "## Sanity Check: <br/> Inspect Some Series with Significant Stop Betas ##"
   ]
  },
  {
   "cell_type": "code",
   "execution_count": null,
   "metadata": {
    "collapsed": true
   },
   "outputs": [],
   "source": [
    "options(repr.plot.width=8, repr.plot.height=3)\n",
    "\n",
    "nplts <- 3\n",
    "for (subj_num in 1:nplts) {\n",
    "    dmelt <- melt(cbind(lm_list[[subj_num]]$conv_regs[1:40,c(1,3,8)], stn_series[1:40,subj_num]/12.5), id.vars = 'TR', variable.name = 'Condition')\n",
    "    plt <- ggplot(dmelt, aes(TR, value)) + geom_line(aes(colour=Condition))\n",
    "    print(plt)\n",
    "}"
   ]
  },
  {
   "cell_type": "code",
   "execution_count": null,
   "metadata": {
    "collapsed": true
   },
   "outputs": [],
   "source": [
    "##### DESIGN MATRIX w/ DRIFTS\n",
    "#dmatdf <- data.frame(design_mat)\n",
    "#colnames(dmatdf) <- c(labels[setdiff(1:7, bad_cond)], 'Intercept', 'Linear Drift', 'Sq. Drift')\n",
    "#dmatdf['TR'] <- 1:444\n",
    "\n",
    "#dmatdf.m <- melt(dmatdf, id.vars = 'TR')\n",
    "#dmatdf.m <- ddply(dmatdf.m, .(variable), transform, rescale = scale(value))\n",
    "\n",
    "#options(repr.plot.width=6, repr.plot.height=5)\n",
    "\n",
    "#p <- ggplot(dmatdf.m, aes(variable, TR)) +\n",
    "#      geom_tile(aes(fill = value)) + \n",
    "#      scale_fill_gradient(low = \"white\", high = \"steelblue\") + \n",
    "#      labs(x = \"\") + scale_x_discrete(expand = c(0, 0)) + #scale_y_discrete(expand = c(0, 0)) +\n",
    "#      theme(panel.grid.major = element_blank(),panel.grid.minor = element_blank(),\n",
    "#              panel.background = element_blank(),\n",
    "#              legend.position = \"none\",\n",
    "#              axis.ticks = element_blank(),\n",
    "#              axis.text.x = element_text(size = base_size * 0.8, angle = 330, hjust = 0, colour = \"grey50\"))\n",
    "\n",
    "#print(p)"
   ]
  },
  {
   "cell_type": "code",
   "execution_count": null,
   "metadata": {
    "collapsed": true
   },
   "outputs": [],
   "source": [
    "options(repr.plot.width=6, repr.plot.height=3)\n",
    "\n",
    "dmelt <- melt(betas[c('STOP_SUCCESS', 'STOP_FAILURE')], id.vars = 'STOP_SUCCESS', na.rm=TRUE)\n",
    "ggplot(dmelt, aes(STOP_SUCCESS, value)) + geom_point(colour='dark cyan') + scale_y_continuous('Stop Failure Beta') + scale_x_continuous('Stop Success Beta') + theme(aspect.ratio = 1)\n",
    "\n",
    "dmelt <- melt(betas[c('GO_SUCCESS', 'STOP_SUCCESS')], id.vars = 'GO_SUCCESS', na.rm=TRUE)\n",
    "ggplot(dmelt, aes(GO_SUCCESS, value)) + geom_point(colour='dark cyan') + scale_x_continuous('GO Success Beta') + scale_y_continuous('Stop Success Beta') + theme(aspect.ratio = 1)\n",
    "\n",
    "dmelt <- melt(betas[c('GO_SUCCESS', 'STOP_FAILURE')], id.vars = 'GO_SUCCESS', na.rm=TRUE)\n",
    "ggplot(dmelt, aes(GO_SUCCESS, value)) + geom_point(colour='dark cyan') + scale_x_continuous('Go Success Beta') + scale_y_continuous('Stop Failure Beta') + theme(aspect.ratio = 1)\n",
    "\n",
    "#ggplot(melt(data.frame(contrast=contrasts), id.vars=NULL), aes(x=value)) + geom_histogram(bins=50)"
   ]
  },
  {
   "cell_type": "code",
   "execution_count": null,
   "metadata": {
    "collapsed": true
   },
   "outputs": [],
   "source": [
    "if (FU) {\n",
    "    betas_BLFU <- array(dim=c(198,8))\n",
    "    contrasts_BLFU <- array(dim=c(198,2))\n",
    "\n",
    "    cols <- c('design_matGO_SUCCESS','design_matSTOP_SUCCESS','design_matSTOP_FAILURE','design_matGO_TOO_LATE')\n",
    "    fus_lost <- 0\n",
    "    for (subj_num in 1:50) {\n",
    "        if (subj_num %in% subs_lost) {\n",
    "            fus_lost <- fus_lost + 1\n",
    "            next\n",
    "        }\n",
    "        betas_BLFU[subj_num,1:4] <- lm_list[[subj_num]]$lm$coefficients[cols]\n",
    "        betas_BLFU[subj_num,5:8] <- lm_list_fu2[[subj_num-fus_lost]]$lm$coefficients[cols]\n",
    "\n",
    "        # Contrast go conds with stop conds ignoring 'failures'\n",
    "        #contr <- as.vector(c(-1, 0.5, 0.5))\n",
    "        #contrasts[subj_num,1] <- contr %*% as.vector(betas[subj_num,1:3])\n",
    "    }\n",
    "    betas_BLFU <- data.frame(betas_BLFU)\n",
    "    colnames(betas_BLFU) <- c('GO_SUCCESS','STOP_SUCCESS','STOP_FAILURE','GO_TOO_LATE','GO_SUCCESS_FU2','STOP_SUCCESS_FU2','STOP_FAILURE_FU2','GO_TOO_LATE_FU2')\n",
    "}\n",
    "\n",
    "### \n",
    "\n",
    "dmelt <- melt(betas_BLFU[c('STOP_SUCCESS', 'STOP_SUCCESS_FU2')], id.vars = 'STOP_SUCCESS', na.rm=TRUE)\n",
    "ggplot(dmelt, aes(STOP_SUCCESS, value)) + geom_point(colour='dark cyan') + scale_y_continuous('Stop Success Beta FU2') + scale_x_continuous('Stop Success Beta') + theme(aspect.ratio = 1)\n",
    "\n",
    "dmelt <- melt(betas_BLFU[c('GO_SUCCESS', 'GO_SUCCESS_FU2')], id.vars = 'GO_SUCCESS', na.rm=TRUE)\n",
    "ggplot(dmelt, aes(GO_SUCCESS, value)) + geom_point(colour='dark cyan') + scale_x_continuous('GO Success Beta') + scale_y_continuous('Go Success Beta FU2') + theme(aspect.ratio = 1)\n",
    "\n",
    "dmelt <- melt(betas_BLFU[c('STOP_FAILURE', 'STOP_FAILURE_FU2')], id.vars = 'STOP_FAILURE', na.rm=TRUE)\n",
    "ggplot(dmelt, aes(STOP_FAILURE, value)) + geom_point(colour='dark cyan') + scale_x_continuous('Stop Failure Beta') + scale_y_continuous('Stop Failure Beta FU2') + theme(aspect.ratio = 1)\n"
   ]
  }
 ],
 "metadata": {
  "kernelspec": {
   "display_name": "R",
   "language": "R",
   "name": "ir"
  },
  "language_info": {
   "codemirror_mode": "r",
   "file_extension": ".r",
   "mimetype": "text/x-r-source",
   "name": "R",
   "pygments_lexer": "r",
   "version": "3.4.0"
  }
 },
 "nbformat": 4,
 "nbformat_minor": 2
}
