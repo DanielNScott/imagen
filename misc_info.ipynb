{
 "cells": [
  {
   "cell_type": "markdown",
   "metadata": {},
   "source": [
    "# IMAGEN Misc. Info #"
   ]
  },
  {
   "cell_type": "markdown",
   "metadata": {},
   "source": [
    "## Table of Contents: ##\n",
    "* [Outline](#outline)\n",
    "* [Summary Stats for MID and SST Params](#summary stats for mid and sst params)\n",
    "* [Mean Shift and Normalize](#mean shift and normalize)\n",
    "* [Shuffle Test](#Shuffle Test)\n",
    "* [Further Data Subdivision](#further data subdivision)\n",
    "* [Missing Data: Age 14](#missing data age 14)\n",
    "* [Impute Features](#impute features)\n",
    "* [Clean Up Features](#clean up features)\n",
    "* [Misc. Correlations](#misc correlations)\n",
    "* [Canonical Correlations Analysis: Age 14](#canonical correlations analysis age 14)\n",
    "* [Principle Components Analysis](#principle components analysis)\n",
    "* [CCA Across Baseline and Follow Up](#cca across baseline and follow up)\n",
    "* [CCA from Age 14 Tasks to Age 18 Survey](#cca from age 14 tasks to age 18 survey)\n",
    "* [Gaussian Mixture Model](#gaussian mixture model)"
   ]
  },
  {
   "cell_type": "markdown",
   "metadata": {},
   "source": [
    "## Outline <a class=\"anchor\" id=\"outline\"></a>\n",
    "**The following should be determined in this file:**\n",
    "- What data exists, what subset is/ shoudl be used, and its raw state.\n",
    "- How much needs to be interpolated or removed, how, and what other QC needs to be done.\n",
    "    - How important statistics of the data are changed by these processes.\n",
    "- What analyses make the most sense, and what we roughly expect from them\n",
    "\n",
    "**It also includes...**\n",
    "- Attempted reproductions of others' work\n",
    "- Sanity checks on work done here and on the data\n",
    "\n",
    "**Actual steps in achieving these goals include:**\n",
    "- Stably inducting and partitioning the data\n",
    "- "
   ]
  },
  {
   "cell_type": "markdown",
   "metadata": {},
   "source": [
    "# Misc. Info #"
   ]
  },
  {
   "cell_type": "markdown",
   "metadata": {
    "collapsed": false
   },
   "source": [
    "## Description of the CANTAB Measures ##\n",
    "Participants completed five of the CANTAB tests. \n",
    "\n",
    "**The Affective Go/No-go** task comprised of alternating blocks in which participants were presented with positively or negatively valenced target words embedded in a stream of neutral distracter words. Participants were instructed to respond to targets with a button press.  Measures included in the analyses were the total number of omissions to positive and negative targets, and the average response latency to positive and negative target words.\n",
    "- 'agn_mean_correct_latency_negative'  Measure is average RT to negative targets\n",
    "- 'agn_mean_correct_latency_positive' Measure is average RT to positive targets\n",
    "- 'agn_total_omissions_negative' Measure is number of negatively valenced target words that the participant failed to respond to \n",
    "- 'agn_total_omissions_positive' Measure is number of positively valenced target words that the participant failed to respond to \n",
    "\n",
    "<br />\n",
    "In the **Pattern Recognition Memory** task participants were required to remember 12 abstract patterns; the percentage of patterns correctly recognized on a two alternative forced choice task completed immediately after encoding was included in the analyses. \n",
    "- 'prm_percent_correct'  Score reflects % correct\n",
    "\n",
    "<br />\n",
    "**The Spatial Working Memory Task** required participants to “search” for a token hidden by one of a number of boxes on the monitor by selecting the boxes in sequence. Once the token is uncovered, participants must search again with the condition that the token will not be hidden in the same location more than once. The number of times participants returned to search a box that had already contained the token was entered into the analyses as an error measure. We also included a strategy score (ranging from 1-37, with lower scores indicating a more strategic approach), which reflects how often a search sequence was initiated from a novel position.\n",
    "- 'swm_between_errors':  Score reflects the number of times the child revisits a box that has already been shown to contain a token (higher scores represent less efficiency).\n",
    "- 'swm_strategy': For displays with more than 6 boxes, this measure represents the number of boxes in which the child initiates a new search within the same display (higher scores represent a less strategic approach).\n",
    "\n",
    "<br />\n",
    "**The Rapid Visual Information Processing** task comprised of a stream of digits presented at 1.67Hz and participants were required to monitor the stream for target sequence of three digits. We included a signal detection measure of sensitivity to the target sequence in the analyses. \n",
    "- 'rvp_a'  Score is a signal detection measure reflecting ability to discriminate a target sequence of 3 digits embedded in a rapidly presented stream.\n",
    "\n",
    "<br />\n",
    "**The Cambridge Guessing Task (CGT)** was a modified version of the Cambridge Gambling Task, renamed in order to make it appropriate to administer to adolescents.  On each trial of the CGT the participant was presented with 10 boxes, some of which are blue, some of which are red, and must “guess” which color box conceals a hidden yellow token.  Participants start the task with 100 points and lose or acquire points by wagering on their guess.  The options the participant can choose to wager are determined by the program as a proportion of their total number of points, presented in either increasing or decreasing amounts.  Measures included the time taken to select the option on which to bet, an average of the proportion of the total number of points wagered on each trial, the proportion of trials on which the more likely outcome was selected (quality of decision making), an average of the proportion wagered on trials when the participant selected the more likely result (rational bets), risk adjustment assessed by variation in the amount wagered in response to the ratio of red to blue boxes, and an index of delay aversion reflected in making higher bets when the amount to bet is presented in descending order rather than in ascending order.\n",
    "- 'cgt_delay_aversion'  Delay aversion is a measure of the particicipant's preference for making higher bets when the amount to wager is presented in descending (rather than ascending) order.\n",
    "- 'cgt_deliberation_time' Deliberation time is the time taken to select an amount to wager.\n",
    "- 'cgt_quality_of_decision_making' Proportion of trials on which the more likely outcome was selected\n",
    "- 'cgt_overall_proportion_bet' The average of the proportion of the participant's current kitty that is wagered on each trial\n",
    "- 'cgt_risk_adjustment' The degree to which the proportion bet is affected by the ratio of red:blue boxes on every trial, accounting for the overall proportion bet. (N.B. This measure is not available at baseline for 1 site)\n",
    "- 'cgt_risk_taking' The average of the proportion of the participant's current kitty that is wagered on each trial, but only for those trials on which they selected the more likely option."
   ]
  },
  {
   "cell_type": "code",
   "execution_count": null,
   "metadata": {
    "collapsed": true
   },
   "outputs": [],
   "source": []
  },
  {
   "cell_type": "code",
   "execution_count": null,
   "metadata": {
    "collapsed": true
   },
   "outputs": [],
   "source": []
  }
 ],
 "metadata": {
  "kernelspec": {
   "display_name": "R",
   "language": "R",
   "name": "ir"
  },
  "language_info": {
   "codemirror_mode": "r",
   "file_extension": ".r",
   "mimetype": "text/x-r-source",
   "name": "R",
   "pygments_lexer": "r",
   "version": "3.2.3"
  }
 },
 "nbformat": 4,
 "nbformat_minor": 0
}
